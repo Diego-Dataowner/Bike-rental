{
 "cells": [
  {
   "cell_type": "code",
   "execution_count": 6,
   "id": "42da845e-4001-45db-a684-3562de76b25f",
   "metadata": {},
   "outputs": [],
   "source": [
    "import pandas as pd\n",
    "from xgboost import XGBRFRegressor, XGBRegressor\n",
    "from sklearn import ensemble\n",
    "import mlflow"
   ]
  },
  {
   "cell_type": "code",
   "execution_count": 1,
   "id": "05be611f-745e-4a73-910b-9f006ec83ec1",
   "metadata": {},
   "outputs": [],
   "source": [
    "def load_data():\n",
    "    filename = \"bike_clean_for_training.csv\"\n",
    "    data = pd.read_csv(filename, sep=\",\")\n",
    "    data.drop(['date','holiday','year','instant','casual','last_modified','registered', 'humidity'],axis=1,inplace=True)\n",
    "    y = data[\"count\"]\n",
    "    x = data.copy()    \n",
    "    x.pop(\"count\")\n",
    "\n",
    "    return x, y\n",
    "\n",
    "\n",
    "def make_train_test_split(x, y):\n",
    "\n",
    "    from sklearn.model_selection import train_test_split\n",
    "\n",
    "    (x_train, x_test, y_train, y_test) = train_test_split(\n",
    "        x,\n",
    "        y,\n",
    "        test_size=0.25,\n",
    "        random_state=123456,\n",
    "    )\n",
    "    return x_train, x_test, y_train, y_test\n",
    "\n",
    "\n",
    "def eval_metrics(y_true, y_pred):\n",
    "\n",
    "    from sklearn.metrics import mean_absolute_error, mean_squared_error, r2_score\n",
    "\n",
    "    mse = mean_squared_error(y_true, y_pred)\n",
    "    mae = mean_absolute_error(y_true, y_pred)\n",
    "    r2 = r2_score(y_true, y_pred)\n",
    "\n",
    "    return mse, mae, r2\n",
    "\n",
    "\n",
    "def report(estimator, mse, mae, r2):\n",
    "\n",
    "    print(estimator, \":\", sep=\"\")\n",
    "    print(f\"  MSE: {mse}\")\n",
    "    print(f\"  MAE: {mae}\")\n",
    "    print(f\"  R2: {r2}\")\n",
    "\n",
    "\n",
    "# def log_metrics(mse, mae, r2):\n",
    "#\n",
    "#     import mlflow\n",
    "#\n",
    "#     mlflow.log_metric(\"mse\", mse)\n",
    "#     mlflow.log_metric(\"mae\", mae)\n",
    "#     mlflow.log_metric(\"r2\", r2)\n",
    "\n",
    "\n",
    "def make_pipeline(estimator):\n",
    "\n",
    "    from sklearn.pipeline import Pipeline\n",
    "    from sklearn.preprocessing import MinMaxScaler\n",
    "\n",
    "    pipeline = Pipeline(\n",
    "        steps=[\n",
    "            (\"minMaxScaler\", MinMaxScaler()),\n",
    "            (\"estimator\", estimator),\n",
    "        ],\n",
    "    )\n",
    "\n",
    "    return pipeline\n",
    "\n",
    "\n",
    "def set_tracking_uri():\n",
    "\n",
    "    import mlflow\n",
    "\n",
    "    mlflow.set_tracking_uri('sqlite:///mlruns.db')\n",
    "\n",
    "\n",
    "def display_config():\n",
    "\n",
    "    import mlflow\n",
    "\n",
    "    print(\"Current model registry uri: {}\".format(mlflow.get_registry_uri()))\n",
    "    print(\"      Current tracking uri: {}\".format(mlflow.get_tracking_uri()))"
   ]
  },
  {
   "cell_type": "code",
   "execution_count": 2,
   "id": "e8c1f4f0-1b32-4d5b-9ad3-03ef0ddc4c1b",
   "metadata": {},
   "outputs": [],
   "source": [
    "def xgboost(model, model_name, model_type):\n",
    "\n",
    "    x, y = load_data()\n",
    "    x_train, x_test, y_train, y_test = make_train_test_split(x, y)\n",
    "\n",
    "    estimator = make_pipeline(\n",
    "        estimator=xgb,\n",
    "    )\n",
    "\n",
    "\n",
    "    with mlflow.start_run(run_name=\"Test_for_mlflow\") as run:\n",
    "\n",
    "        print(f\"MLflow run ID: {run.info.run_id}\")\n",
    "\n",
    "        estimator.fit(x_train, y_train)\n",
    "\n",
    "        mse, mae, r2 = eval_metrics(\n",
    "            y_true=y_test,\n",
    "            y_pred=estimator.predict(x_test),\n",
    "        )\n",
    "\n",
    "        report(estimator, mse, mae, r2)\n",
    "\n",
    "        #\n",
    "        # Parametros y metricas\n",
    "        #\n",
    "        mlflow.log_metric(\"mse\", mse)\n",
    "        mlflow.log_metric(\"mae\", mae)\n",
    "        mlflow.log_metric(\"r2\", r2)\n",
    "\n",
    "        #\n",
    "        # Registro del modelo como version 1\n",
    "        #\n",
    "        registered_model_name = f\"sklearn-{model_name}-{model_type}-model\"\n",
    "        \n",
    "        mlflow.sklearn.log_model(\n",
    "            sk_model=estimator,\n",
    "            artifact_path=\"model\",\n",
    "            registered_model_name=registered_model_name\n",
    "        )\n",
    "    return registered_model_name\n"
   ]
  },
  {
   "cell_type": "code",
   "execution_count": 7,
   "id": "2801afce-423e-4bf9-8d3d-b94b06e047f7",
   "metadata": {},
   "outputs": [
    {
     "name": "stderr",
     "output_type": "stream",
     "text": [
      "2023/03/31 19:25:05 INFO mlflow.store.db.utils: Creating initial MLflow database tables...\n",
      "2023/03/31 19:25:05 INFO mlflow.store.db.utils: Updating database tables\n",
      "INFO  [alembic.runtime.migration] Context impl SQLiteImpl.\n",
      "INFO  [alembic.runtime.migration] Will assume non-transactional DDL.\n",
      "INFO  [alembic.runtime.migration] Running upgrade  -> 451aebb31d03, add metric step\n",
      "INFO  [alembic.runtime.migration] Running upgrade 451aebb31d03 -> 90e64c465722, migrate user column to tags\n",
      "INFO  [alembic.runtime.migration] Running upgrade 90e64c465722 -> 181f10493468, allow nulls for metric values\n",
      "INFO  [alembic.runtime.migration] Running upgrade 181f10493468 -> df50e92ffc5e, Add Experiment Tags Table\n",
      "INFO  [alembic.runtime.migration] Running upgrade df50e92ffc5e -> 7ac759974ad8, Update run tags with larger limit\n",
      "INFO  [alembic.runtime.migration] Running upgrade 7ac759974ad8 -> 89d4b8295536, create latest metrics table\n",
      "INFO  [89d4b8295536_create_latest_metrics_table_py] Migration complete!\n",
      "INFO  [alembic.runtime.migration] Running upgrade 89d4b8295536 -> 2b4d017a5e9b, add model registry tables to db\n",
      "INFO  [2b4d017a5e9b_add_model_registry_tables_to_db_py] Adding registered_models and model_versions tables to database.\n",
      "INFO  [2b4d017a5e9b_add_model_registry_tables_to_db_py] Migration complete!\n",
      "INFO  [alembic.runtime.migration] Running upgrade 2b4d017a5e9b -> cfd24bdc0731, Update run status constraint with killed\n",
      "INFO  [alembic.runtime.migration] Running upgrade cfd24bdc0731 -> 0a8213491aaa, drop_duplicate_killed_constraint\n",
      "INFO  [alembic.runtime.migration] Running upgrade 0a8213491aaa -> 728d730b5ebd, add registered model tags table\n",
      "INFO  [alembic.runtime.migration] Running upgrade 728d730b5ebd -> 27a6a02d2cf1, add model version tags table\n",
      "INFO  [alembic.runtime.migration] Running upgrade 27a6a02d2cf1 -> 84291f40a231, add run_link to model_version\n",
      "INFO  [alembic.runtime.migration] Running upgrade 84291f40a231 -> a8c4a736bde6, allow nulls for run_id\n",
      "INFO  [alembic.runtime.migration] Running upgrade a8c4a736bde6 -> 39d1c3be5f05, add_is_nan_constraint_for_metrics_tables_if_necessary\n",
      "INFO  [alembic.runtime.migration] Running upgrade 39d1c3be5f05 -> c48cb773bb87, reset_default_value_for_is_nan_in_metrics_table_for_mysql\n",
      "INFO  [alembic.runtime.migration] Running upgrade c48cb773bb87 -> bd07f7e963c5, create index on run_uuid\n",
      "INFO  [alembic.runtime.migration] Context impl SQLiteImpl.\n",
      "INFO  [alembic.runtime.migration] Will assume non-transactional DDL.\n"
     ]
    },
    {
     "name": "stdout",
     "output_type": "stream",
     "text": [
      "MLflow run ID: 802b1a97494741eb9d0ce82cce453018\n",
      "Pipeline(steps=[('minMaxScaler', MinMaxScaler()),\n",
      "                ('estimator',\n",
      "                 GradientBoostingRegressor(learning_rate=0.01, max_depth=10,\n",
      "                                           min_samples_split=8,\n",
      "                                           n_estimators=1000))]):\n",
      "  MSE: 1399.8277017801327\n",
      "  MAE: 22.595607288254616\n",
      "  R2: 0.92265680417391\n"
     ]
    },
    {
     "name": "stderr",
     "output_type": "stream",
     "text": [
      "Successfully registered model 'sklearn-xg_boost-regressor-model'.\n",
      "2023/03/31 19:25:31 INFO mlflow.tracking._model_registry.client: Waiting up to 300 seconds for model version to finish creation.                     Model name: sklearn-xg_boost-regressor-model, version 1\n",
      "Created version '1' of model 'sklearn-xg_boost-regressor-model'.\n"
     ]
    }
   ],
   "source": [
    "set_tracking_uri()\n",
    "xgb = ensemble.GradientBoostingRegressor(learning_rate=0.01, n_estimators=1000, \n",
    "                                             max_depth=10, min_samples_split=8) \n",
    "\n",
    "registered_model_name = xgboost(xgb,'xg_boost','regressor')"
   ]
  },
  {
   "cell_type": "code",
   "execution_count": 8,
   "id": "314fb7fb-1f7c-41b5-aaa2-af1302a49528",
   "metadata": {},
   "outputs": [],
   "source": [
    "#\n",
    "# Carga de una versión específica del modelo\n",
    "#\n",
    "def call_by_version_predict(model_name,version):\n",
    "\n",
    "    x, y = load_data()\n",
    "    x_train, x_test, y_train, y_test = make_train_test_split(x, y)\n",
    "\n",
    "    model = mlflow.pyfunc.load_model(\n",
    "        model_uri=f\"models:/{model_name}/{model_version}\"\n",
    "    )\n",
    "\n",
    "    return model.predict(x_test[0:10])"
   ]
  },
  {
   "cell_type": "code",
   "execution_count": 10,
   "id": "0cd626f7-553a-4d19-99a9-5fedeedf84c3",
   "metadata": {},
   "outputs": [
    {
     "data": {
      "text/plain": [
       "array([7.65610851e+00, 1.00403221e+02, 1.37794170e+02, 1.44776522e+02,\n",
       "       3.03734835e+01, 2.05480518e+02, 1.52911485e+02, 1.50727740e+01,\n",
       "       1.87805955e+02, 7.52164207e-02])"
      ]
     },
     "execution_count": 10,
     "metadata": {},
     "output_type": "execute_result"
    }
   ],
   "source": [
    "model_version = 1\n",
    "call_by_version_predict(registered_model_name, model_version)"
   ]
  },
  {
   "cell_type": "code",
   "execution_count": 11,
   "id": "b45edb4c-f995-46ef-98c3-1b78e4998b20",
   "metadata": {},
   "outputs": [],
   "source": [
    "def call_by_stage_predict(model_name, stage):\n",
    "\n",
    "    import mlflow\n",
    "\n",
    "    x, y = load_data()\n",
    "    x_train, x_test, y_train, y_test = make_train_test_split(x, y)\n",
    "\n",
    "    model = mlflow.pyfunc.load_model(\n",
    "        model_uri=f\"models:/{model_name}/{stage}\"\n",
    "    )\n",
    "\n",
    "    return model.predict(x_test[0:10])\n"
   ]
  },
  {
   "cell_type": "code",
   "execution_count": 12,
   "id": "1dc8c85b-7360-4479-a3fe-7cb17088ad9f",
   "metadata": {},
   "outputs": [
    {
     "data": {
      "text/plain": [
       "array([7.65610851e+00, 1.00403221e+02, 1.37794170e+02, 1.44776522e+02,\n",
       "       3.03734835e+01, 2.05480518e+02, 1.52911485e+02, 1.50727740e+01,\n",
       "       1.87805955e+02, 7.52164207e-02])"
      ]
     },
     "execution_count": 12,
     "metadata": {},
     "output_type": "execute_result"
    }
   ],
   "source": [
    "call_by_stage_predict(registered_model_name,'Production')"
   ]
  },
  {
   "cell_type": "code",
   "execution_count": 15,
   "id": "b3c5dc34-6ca7-4b06-9f8c-d9a0617c6454",
   "metadata": {},
   "outputs": [],
   "source": [
    "def get_data_json_format():\n",
    "    x,y = load_data()\n",
    "    x_train, x_test, y_train, y_test = make_train_test_split(x,y)\n",
    "    data = x_test.iloc[0:20,:].to_json(orient = 'split')\n",
    "    data = repr(data) \n",
    "    return data"
   ]
  },
  {
   "cell_type": "code",
   "execution_count": 16,
   "id": "5a53550e-30d2-4e6c-b6c0-fd26c8a92b54",
   "metadata": {},
   "outputs": [
    {
     "data": {
      "text/plain": [
       "'\\'{\"columns\":[\"season\",\"month\",\"hour\",\"weekday\",\"day_type\",\"weather\",\"temperature\",\"warming_sensation\",\"windspeed\"],\"index\":[1550,7011,6016,398,7739,5179,4019,4248,8446,28,2622,6993,4436,1898,1857,2504,1776,1831,3918,2962],\"data\":[[1,3,5,4,1,3,0.36,0.3485,0.194],[4,10,22,1,1,1,0.48,0.4697,0.1642],[3,9,10,2,1,1,0.68,0.6364,0.1343],[1,1,18,2,1,2,0.22,0.2273,0.1642],[4,11,6,4,0,1,0.3,0.3182,0.0896],[3,8,21,1,1,1,0.76,0.7121,0.0896],[3,6,13,2,1,1,0.74,0.697,0.1642],[3,7,2,5,1,1,0.62,0.6061,0.0],[1,12,18,5,1,1,0.36,0.3333,0.2537],[1,1,8,0,0,3,0.4,0.4091,0.2239],[2,4,8,0,0,1,0.52,0.5,0.2239],[4,10,4,1,1,1,0.4,0.4091,0.0],[3,7,22,5,1,2,0.66,0.6061,0.194],[2,3,1,5,1,1,0.2,0.2121,0.1642],[2,3,8,3,1,2,0.32,0.3182,0.194],[2,4,10,2,1,2,0.5,0.4848,0.2239],[1,3,21,6,0,1,0.4,0.4091,0.2985],[2,3,5,2,1,2,0.4,0.4091,0.1343],[2,6,8,5,1,2,0.6,0.5606,0.0],[2,5,12,0,0,1,0.6,0.6212,0.0896]]}\\''"
      ]
     },
     "execution_count": 16,
     "metadata": {},
     "output_type": "execute_result"
    }
   ],
   "source": [
    "data = get_data_json_format()\n",
    "data"
   ]
  },
  {
   "cell_type": "code",
   "execution_count": 17,
   "id": "76d2cdfe-01b0-4f8f-9a26-a237fb70449b",
   "metadata": {},
   "outputs": [
    {
     "name": "stdout",
     "output_type": "stream",
     "text": [
      "[7.656108514238809, 100.40322098398147, 137.79417023039133, 144.7765222423391, 30.373483496299517, 205.48051764902056, 152.91148531346562, 15.072774019817802, 187.80595453827655, 0.07521642072032536, 94.56454169856332, 6.156448841015317, 185.67010487103957, 6.524058178438349, 242.5449982190584, 89.22416991297806, 78.48855132334272, 11.350267791321354, 414.92160605271107, 400.9094632047867]"
     ]
    }
   ],
   "source": [
    "!curl http://0.0.0.0:5000/invocations -H 'Content-type: application/json' -d{data}"
   ]
  },
  {
   "cell_type": "code",
   "execution_count": null,
   "id": "92a3ed4b-0e99-4152-9208-38d885ab38f1",
   "metadata": {},
   "outputs": [],
   "source": []
  }
 ],
 "metadata": {
  "kernelspec": {
   "display_name": "Python 3 (ipykernel)",
   "language": "python",
   "name": "python3"
  },
  "language_info": {
   "codemirror_mode": {
    "name": "ipython",
    "version": 3
   },
   "file_extension": ".py",
   "mimetype": "text/x-python",
   "name": "python",
   "nbconvert_exporter": "python",
   "pygments_lexer": "ipython3",
   "version": "3.8.10"
  }
 },
 "nbformat": 4,
 "nbformat_minor": 5
}
