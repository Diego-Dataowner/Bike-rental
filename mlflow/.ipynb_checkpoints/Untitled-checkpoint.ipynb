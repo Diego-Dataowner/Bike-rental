{
 "cells": [
  {
   "cell_type": "code",
   "execution_count": 41,
   "id": "42da845e-4001-45db-a684-3562de76b25f",
   "metadata": {},
   "outputs": [],
   "source": [
    "import pandas as pd\n",
    "from xgboost import XGBRFRegressor, XGBRegressor\n",
    "from sklearn import ensemble\n",
    "import mlflow"
   ]
  },
  {
   "cell_type": "code",
   "execution_count": 42,
   "id": "05be611f-745e-4a73-910b-9f006ec83ec1",
   "metadata": {},
   "outputs": [],
   "source": [
    "def load_data():\n",
    "    filename = \"bike_clean_for_training.csv\"\n",
    "    data = pd.read_csv(filename, sep=\",\")\n",
    "    data.drop(['date','holiday','year','instant','casual','last_modified','registered', 'humidity'],axis=1,inplace=True)\n",
    "    y = data[\"count\"]\n",
    "    x = data.copy()\n",
    "    x.pop(\"count\")\n",
    "\n",
    "    return x, y\n",
    "\n",
    "\n",
    "def make_train_test_split(x, y):\n",
    "\n",
    "    from sklearn.model_selection import train_test_split\n",
    "\n",
    "    (x_train, x_test, y_train, y_test) = train_test_split(\n",
    "        x,\n",
    "        y,\n",
    "        test_size=0.25,\n",
    "        random_state=123456,\n",
    "    )\n",
    "    return x_train, x_test, y_train, y_test\n",
    "\n",
    "\n",
    "def eval_metrics(y_true, y_pred):\n",
    "\n",
    "    from sklearn.metrics import mean_absolute_error, mean_squared_error, r2_score\n",
    "\n",
    "    mse = mean_squared_error(y_true, y_pred)\n",
    "    mae = mean_absolute_error(y_true, y_pred)\n",
    "    r2 = r2_score(y_true, y_pred)\n",
    "\n",
    "    return mse, mae, r2\n",
    "\n",
    "\n",
    "def report(estimator, mse, mae, r2):\n",
    "\n",
    "    print(estimator, \":\", sep=\"\")\n",
    "    print(f\"  MSE: {mse}\")\n",
    "    print(f\"  MAE: {mae}\")\n",
    "    print(f\"  R2: {r2}\")\n",
    "\n",
    "\n",
    "# def log_metrics(mse, mae, r2):\n",
    "#\n",
    "#     import mlflow\n",
    "#\n",
    "#     mlflow.log_metric(\"mse\", mse)\n",
    "#     mlflow.log_metric(\"mae\", mae)\n",
    "#     mlflow.log_metric(\"r2\", r2)\n",
    "\n",
    "\n",
    "def make_pipeline(estimator):\n",
    "\n",
    "    from sklearn.pipeline import Pipeline\n",
    "    from sklearn.preprocessing import MinMaxScaler\n",
    "\n",
    "    pipeline = Pipeline(\n",
    "        steps=[\n",
    "            (\"minMaxScaler\", MinMaxScaler()),\n",
    "            (\"estimator\", estimator),\n",
    "        ],\n",
    "    )\n",
    "\n",
    "    return pipeline\n",
    "\n",
    "\n",
    "def set_tracking_uri():\n",
    "\n",
    "    import mlflow\n",
    "\n",
    "    mlflow.set_tracking_uri('sqlite:///mlruns.db')\n",
    "\n",
    "\n",
    "def display_config():\n",
    "\n",
    "    import mlflow\n",
    "\n",
    "    print(\"Current model registry uri: {}\".format(mlflow.get_registry_uri()))\n",
    "    print(\"      Current tracking uri: {}\".format(mlflow.get_tracking_uri()))"
   ]
  },
  {
   "cell_type": "code",
   "execution_count": 43,
   "id": "e8c1f4f0-1b32-4d5b-9ad3-03ef0ddc4c1b",
   "metadata": {},
   "outputs": [],
   "source": [
    "def xgboost(model, model_name, model_type):\n",
    "\n",
    "    x, y = load_data()\n",
    "    x_train, x_test, y_train, y_test = make_train_test_split(x, y)\n",
    "\n",
    "    estimator = make_pipeline(\n",
    "        estimator=xgb,\n",
    "    )\n",
    "\n",
    "\n",
    "    with mlflow.start_run(run_name=\"Test_for_mlflow\") as run:\n",
    "\n",
    "        print(f\"MLflow run ID: {run.info.run_id}\")\n",
    "\n",
    "        estimator.fit(x_train, y_train)\n",
    "\n",
    "        mse, mae, r2 = eval_metrics(\n",
    "            y_true=y_test,\n",
    "            y_pred=estimator.predict(x_test),\n",
    "        )\n",
    "\n",
    "        report(estimator, mse, mae, r2)\n",
    "\n",
    "        #\n",
    "        # Parametros y metricas\n",
    "        #\n",
    "        mlflow.log_metric(\"mse\", mse)\n",
    "        mlflow.log_metric(\"mae\", mae)\n",
    "        mlflow.log_metric(\"r2\", r2)\n",
    "\n",
    "        #\n",
    "        # Registro del modelo como version 1\n",
    "        #\n",
    "        registered_model_name = f\"sklearn-{model_name}-{model_type}-model\"\n",
    "        \n",
    "        mlflow.sklearn.log_model(\n",
    "            sk_model=estimator,\n",
    "            artifact_path=\"model\",\n",
    "            registered_model_name=registered_model_name\n",
    "        )\n",
    "    return registered_model_name\n"
   ]
  },
  {
   "cell_type": "code",
   "execution_count": 45,
   "id": "2801afce-423e-4bf9-8d3d-b94b06e047f7",
   "metadata": {},
   "outputs": [
    {
     "name": "stdout",
     "output_type": "stream",
     "text": [
      "MLflow run ID: 09e404901cf242399e955c095bb9ff53\n",
      "Pipeline(steps=[('minMaxScaler', MinMaxScaler()),\n",
      "                ('estimator',\n",
      "                 GradientBoostingRegressor(learning_rate=0.01, max_depth=10,\n",
      "                                           min_samples_split=8,\n",
      "                                           n_estimators=1000))]):\n",
      "  MSE: 1397.5092064967448\n",
      "  MAE: 22.578807427167387\n",
      "  R2: 0.9227849055355969\n"
     ]
    },
    {
     "name": "stderr",
     "output_type": "stream",
     "text": [
      "Registered model 'sklearn-xg_boost-regressor-model' already exists. Creating a new version of this model...\n",
      "2023/03/31 06:06:21 INFO mlflow.tracking._model_registry.client: Waiting up to 300 seconds for model version to finish creation.                     Model name: sklearn-xg_boost-regressor-model, version 2\n",
      "Created version '2' of model 'sklearn-xg_boost-regressor-model'.\n"
     ]
    }
   ],
   "source": [
    "xgb = ensemble.GradientBoostingRegressor(learning_rate=0.01, n_estimators=1000, \n",
    "                                             max_depth=10, min_samples_split=8) \n",
    "\n",
    "registered_model_name = xgboost(xgb,'xg_boost','regressor')"
   ]
  },
  {
   "cell_type": "code",
   "execution_count": 46,
   "id": "314fb7fb-1f7c-41b5-aaa2-af1302a49528",
   "metadata": {},
   "outputs": [],
   "source": [
    "#\n",
    "# Carga de una versión específica del modelo\n",
    "#\n",
    "def call_by_version_predict(model_name,version):\n",
    "\n",
    "    x, y = load_data()\n",
    "    x_train, x_test, y_train, y_test = make_train_test_split(x, y)\n",
    "\n",
    "    model = mlflow.pyfunc.load_model(\n",
    "        model_uri=f\"models:/{model_name}/{model_version}\"\n",
    "    )\n",
    "\n",
    "    return model.predict(x_test[0:10])"
   ]
  },
  {
   "cell_type": "code",
   "execution_count": 47,
   "id": "0cd626f7-553a-4d19-99a9-5fedeedf84c3",
   "metadata": {},
   "outputs": [
    {
     "data": {
      "text/plain": [
       "array([  7.62097242, 100.40322098, 138.03603528, 144.77652224,\n",
       "        30.3734835 , 205.48051765, 152.91148531,  15.07277402,\n",
       "       187.80595454,   0.80448538])"
      ]
     },
     "execution_count": 47,
     "metadata": {},
     "output_type": "execute_result"
    }
   ],
   "source": [
    "model_version = 2\n",
    "call_by_version_predict(registered_model_name, 2)"
   ]
  },
  {
   "cell_type": "code",
   "execution_count": 49,
   "id": "b45edb4c-f995-46ef-98c3-1b78e4998b20",
   "metadata": {},
   "outputs": [],
   "source": [
    "def call_by_stage_predict(model_name, stage):\n",
    "\n",
    "    import mlflow\n",
    "\n",
    "    x, y = load_data()\n",
    "    x_train, x_test, y_train, y_test = make_train_test_split(x, y)\n",
    "\n",
    "    model = mlflow.pyfunc.load_model(\n",
    "        model_uri=f\"models:/{model_name}/{stage}\"\n",
    "    )\n",
    "\n",
    "    return model.predict(x_test[0:10])\n"
   ]
  },
  {
   "cell_type": "code",
   "execution_count": 50,
   "id": "1dc8c85b-7360-4479-a3fe-7cb17088ad9f",
   "metadata": {},
   "outputs": [
    {
     "data": {
      "text/plain": [
       "array([  7.62097242, 100.40322098, 138.03603528, 144.77652224,\n",
       "        30.3734835 , 205.48051765, 152.91148531,  15.07277402,\n",
       "       187.80595454,   0.80448538])"
      ]
     },
     "execution_count": 50,
     "metadata": {},
     "output_type": "execute_result"
    }
   ],
   "source": [
    "call_by_stage_predict(registered_model_name,'Production')"
   ]
  },
  {
   "cell_type": "code",
   "execution_count": 51,
   "id": "b3c5dc34-6ca7-4b06-9f8c-d9a0617c6454",
   "metadata": {},
   "outputs": [],
   "source": [
    "def get_data_json_format():\n",
    "    x,y = load_data()\n",
    "    x_train, x_test, y_train, y_test = make_train_test_split(x,y)\n",
    "    data = x_test.iloc[0:1,:].to_json(orient = 'split')\n",
    "    data = repr(data) \n",
    "    return data"
   ]
  },
  {
   "cell_type": "code",
   "execution_count": 52,
   "id": "5a53550e-30d2-4e6c-b6c0-fd26c8a92b54",
   "metadata": {},
   "outputs": [
    {
     "data": {
      "text/plain": [
       "'\\'{\"columns\":[\"season\",\"month\",\"hour\",\"weekday\",\"day_type\",\"weather\",\"temperature\",\"warming_sensation\",\"windspeed\"],\"index\":[1550],\"data\":[[1,3,5,4,1,3,0.36,0.3485,0.194]]}\\''"
      ]
     },
     "execution_count": 52,
     "metadata": {},
     "output_type": "execute_result"
    }
   ],
   "source": [
    "data = get_data_json_format()\n",
    "data"
   ]
  },
  {
   "cell_type": "code",
   "execution_count": 53,
   "id": "76d2cdfe-01b0-4f8f-9a26-a237fb70449b",
   "metadata": {},
   "outputs": [
    {
     "name": "stdout",
     "output_type": "stream",
     "text": [
      "[7.620972418735393]"
     ]
    }
   ],
   "source": [
    "!curl http://0.0.0.0:5000/invocations -H 'Content-type: application/json' -d{data}"
   ]
  }
 ],
 "metadata": {
  "kernelspec": {
   "display_name": "Python 3 (ipykernel)",
   "language": "python",
   "name": "python3"
  },
  "language_info": {
   "codemirror_mode": {
    "name": "ipython",
    "version": 3
   },
   "file_extension": ".py",
   "mimetype": "text/x-python",
   "name": "python",
   "nbconvert_exporter": "python",
   "pygments_lexer": "ipython3",
   "version": "3.8.10"
  }
 },
 "nbformat": 4,
 "nbformat_minor": 5
}
